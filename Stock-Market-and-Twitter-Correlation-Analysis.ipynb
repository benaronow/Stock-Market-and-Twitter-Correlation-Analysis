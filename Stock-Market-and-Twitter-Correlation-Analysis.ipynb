{
 "cells": [
  {
   "cell_type": "markdown",
   "id": "217033a7",
   "metadata": {},
   "source": [
    "# DS3000 Project: Twitter and the Stock Market\n",
    "### Ben Aronow, Nick Haugen, Ben Inglesby, and Aidan Niceberg"
   ]
  },
  {
   "cell_type": "code",
   "execution_count": 1,
   "id": "e768a7d0",
   "metadata": {},
   "outputs": [],
   "source": [
    "import numpy as np\n",
    "import pandas as pd\n",
    "from datetime import date, datetime\n",
    "from scipy import stats\n",
    "\n",
    "from sklearn.model_selection import train_test_split\n",
    "from sklearn.ensemble import RandomForestRegressor\n",
    "from sklearn.linear_model import LinearRegression\n",
    "from sklearn.metrics import mean_squared_error\n",
    "\n",
    "from sklearn.svm import SVR\n",
    "from sklearn.pipeline import make_pipeline\n",
    "from sklearn.preprocessing import StandardScaler\n",
    "from sklearn.model_selection import GridSearchCV\n",
    "\n",
    "import matplotlib.pyplot as plt\n",
    "import seaborn as sns\n",
    "sns.set_style('darkgrid')"
   ]
  },
  {
   "cell_type": "markdown",
   "id": "1aafe4f1",
   "metadata": {},
   "source": [
    "## Using the Polygon API to analyze stock information\n",
    "\n",
    "### Step 1: Set-up the Polygon API"
   ]
  },
  {
   "cell_type": "code",
   "execution_count": 2,
   "id": "112d482b",
   "metadata": {},
   "outputs": [
    {
     "name": "stdout",
     "output_type": "stream",
     "text": [
      "Requirement already satisfied: polygon-api-client in /Users/benaronow227/opt/anaconda3/lib/python3.9/site-packages (1.4.0)\r\n",
      "Requirement already satisfied: certifi<2023.0.0,>=2022.5.18 in /Users/benaronow227/opt/anaconda3/lib/python3.9/site-packages (from polygon-api-client) (2022.9.24)\r\n",
      "Requirement already satisfied: websockets<11.0,>=10.3 in /Users/benaronow227/opt/anaconda3/lib/python3.9/site-packages (from polygon-api-client) (10.4)\r\n",
      "Requirement already satisfied: urllib3<2.0.0,>=1.26.9 in /Users/benaronow227/opt/anaconda3/lib/python3.9/site-packages (from polygon-api-client) (1.26.9)\r\n"
     ]
    }
   ],
   "source": [
    "# The Polygon Api Client library must first be installed in the virtual environment before it is used\n",
    "!pip install polygon-api-client"
   ]
  },
  {
   "cell_type": "code",
   "execution_count": 3,
   "id": "c3ea7d06",
   "metadata": {},
   "outputs": [],
   "source": [
    "# After the library is installed, we can import the RESTClient and other important module packages\n",
    "from polygon.rest import RESTClient\n",
    "from typing import cast, Any, Optional\n",
    "from urllib3 import HTTPResponse\n",
    "from requests.adapters import HTTPAdapter\n",
    "from urllib3.util.retry import Retry"
   ]
  },
  {
   "cell_type": "code",
   "execution_count": 4,
   "id": "dc37eac9",
   "metadata": {},
   "outputs": [],
   "source": [
    "# Polygon API Key\n",
    "api_key = '575m3QbfEdg7S0spB39rx3uHh1TXGw18'"
   ]
  },
  {
   "cell_type": "code",
   "execution_count": 5,
   "id": "53b31257",
   "metadata": {},
   "outputs": [],
   "source": [
    "# The Polygon Client is authorized using our Polygon API Key\n",
    "client = RESTClient(api_key)"
   ]
  },
  {
   "cell_type": "markdown",
   "id": "45313f1c",
   "metadata": {},
   "source": [
    "### Step 2: Collect Data using the Polygon Client"
   ]
  },
  {
   "cell_type": "code",
   "execution_count": 6,
   "id": "33a817f0",
   "metadata": {},
   "outputs": [],
   "source": [
    "# A list of stock tickers for which we would like to analyze the performance\n",
    "stock_tickers = ['AAPL', 'MSFT', 'GOOG', 'DELL', 'AMZN']"
   ]
  },
  {
   "cell_type": "code",
   "execution_count": 7,
   "id": "86fe30a9",
   "metadata": {},
   "outputs": [],
   "source": [
    "# The parameters for the API call to get stock information\n",
    "timespan = 'day' # The type of timespan over which to analyze stock information\n",
    "multiplier = 1 # The number of the given timespans analyzed at once\n",
    "start_date = '2022-01-01' # The date on which to begin the analysis (January 1st, 2022)\n",
    "end_date = '2022-11-30' # The date on which to end the analysis (November 30th, 2022)\n",
    "limit = 230 # The number of days to get the performance for"
   ]
  },
  {
   "cell_type": "code",
   "execution_count": 8,
   "id": "78475aa0",
   "metadata": {},
   "outputs": [],
   "source": [
    "# An empty list in which to store the information for each stock that is analyzed\n",
    "stock_info_list = []\n",
    "\n",
    "# Uses the Polygon API to analyze each stock in the list of stock tickers defined above and\n",
    "# adds to the list of stock information\n",
    "for stock in stock_tickers:\n",
    "    stock_info = client.get_aggs(stock,\n",
    "                                 timespan=timespan,\n",
    "                                 multiplier=multiplier,\n",
    "                                 from_=start_date,\n",
    "                                 to=end_date,\n",
    "                                 limit=limit)\n",
    "    \n",
    "    stock_info_list.append(stock_info)"
   ]
  },
  {
   "cell_type": "code",
   "execution_count": 9,
   "id": "562507e9",
   "metadata": {},
   "outputs": [],
   "source": [
    "# An empty list in which to store DataFrames containing curated data for each stock that has been analyzed\n",
    "stock_data_list = []\n",
    "\n",
    "# Uses information about each stock to create a new Dataframe containing better metrics\n",
    "# by which to measure performance and adds to the list of curated data\n",
    "for n in np.arange(5):\n",
    "    stock_data = pd.DataFrame(stock_info_list[n])\n",
    "    stock_data['Date'] = pd.to_datetime(stock_data['timestamp'], unit='ms').dt.date\n",
    "    \n",
    "    # Calculates the \"performance,\" or how much the stock price increased/decreased over a given day\n",
    "    stock_data['Performance'] = stock_data['close'] - stock_data['open']\n",
    "    \n",
    "    # Calculates the \"range,\" or the difference between the highest and lowest stock prices of a given day\n",
    "    stock_data['Range'] = stock_data['high'] - stock_data['low']\n",
    "    \n",
    "    # Gets rid of everything in the DataFrame except for the date, performance, and range\n",
    "    stock_data = stock_data[['Date', 'Performance', 'Range']]\n",
    "    \n",
    "    stock_data_list.append(stock_data)"
   ]
  },
  {
   "cell_type": "code",
   "execution_count": 10,
   "id": "01a73c3f",
   "metadata": {},
   "outputs": [],
   "source": [
    "# Weighs the performance and range based on the data from the entire column\n",
    "for stock_data in stock_data_list:\n",
    "    stock_data['Weighted Performance'] = stock_data['Performance']\n",
    "    \n",
    "    # Alters each performance number such that the lowest number will be zero\n",
    "    min_performance = stock_data['Weighted Performance'].min()\n",
    "    stock_data['Weighted Performance'] = stock_data['Weighted Performance'] - min_performance\n",
    "    \n",
    "    # Divides each performance number by the maximum performance number in the column so that\n",
    "    # each performance number will be between zero and one, with the current maximum number set to equal one\n",
    "    max_performance = stock_data['Weighted Performance'].max()\n",
    "    stock_data['Weighted Performance'] = stock_data['Weighted Performance'] / max_performance\n",
    "    \n",
    "    stock_data['Weighted Range'] = stock_data['Range']\n",
    "    \n",
    "    # Alters each range number such that the lowest number will be zero\n",
    "    min_range = stock_data['Weighted Range'].min()\n",
    "    stock_data['Weighted Range'] = stock_data['Weighted Range'] - min_range\n",
    "    \n",
    "    # Divides each range number by the maximum range number in the column so that\n",
    "    # each range number will be between zero and one, with the current maximum number set to equal one\n",
    "    max_range = stock_data['Weighted Range'].max()\n",
    "    stock_data['Weighted Range'] = stock_data['Weighted Range'] / max_range"
   ]
  },
  {
   "cell_type": "code",
   "execution_count": 11,
   "id": "4758a03f",
   "metadata": {},
   "outputs": [],
   "source": [
    "# An empty list in which to store DataFrames containing activity metrics for each stock that has been analyzed\n",
    "stock_data_activity_list = []\n",
    "\n",
    "# Calculates an activity number and label for every day that each stock was analyzed and and adds to\n",
    "# the list of activity metrics\n",
    "for stock_data in stock_data_list:\n",
    "    # Adds the weighted performance and range metrics together\n",
    "    stock_data['Activity'] = stock_data['Weighted Performance'] + stock_data['Weighted Range']\n",
    "    \n",
    "    # Alters each number such that the lowest number will be zero\n",
    "    min_activity = stock_data['Activity'].min()\n",
    "    stock_data['Activity'] = stock_data['Activity'] - min_activity\n",
    "    \n",
    "    # Divides each number by the maximum number in the column so that\n",
    "    # each number will be between zero and one, with the current maximum number set to equal one\n",
    "    max_activity = stock_data['Activity'].max()\n",
    "    stock_data['Activity'] = stock_data['Activity'] / max_activity\n",
    "    \n",
    "    # Creates a new DataFrame containing only the activity information for each stock and appends it to\n",
    "    # the list of activity metrics\n",
    "    stock_data_activity = stock_data[['Date', 'Activity']]\n",
    "    stock_data_activity_list.append(stock_data_activity)"
   ]
  },
  {
   "cell_type": "markdown",
   "id": "672a87e1",
   "metadata": {},
   "source": [
    "## Using the Twitter API with Tweepy to analyze tweets\n",
    "\n",
    "### Step 1: Set-up the Twitter API"
   ]
  },
  {
   "cell_type": "code",
   "execution_count": 12,
   "id": "7128da74",
   "metadata": {},
   "outputs": [],
   "source": [
    "# Import the Tweepy library\n",
    "import tweepy"
   ]
  },
  {
   "cell_type": "code",
   "execution_count": 13,
   "id": "ca279a91",
   "metadata": {},
   "outputs": [],
   "source": [
    "# Twitter API Keys\n",
    "bearer_token = 'AAAAAAAAAAAAAAAAAAAAAF8PiwEAAAAACHFZCsxUJ0sp9AUsm30OMkkurC4%3D63IAMcH5jMABS5RdEb2be2jFdXOMR7a7W8evKvHRzMg06X5tuA'\n",
    "consumer_key = 'FMquV6Q8hly9c3NFEY67dgxhQ'\n",
    "consumer_secret = 'OfSwD6mUPF5S0V1wLKBgLYmQhxMSiOz80lCZLNfj7en129otdC'\n",
    "access_token = '1401763487236247552-z4TaOqE268wUwOauHux3Gf4ehcrrMj'\n",
    "access_token_secret = '5btKI93faVQngwNgtEEzDY1s6MuKaIBcp5RYiUri6xtGX'"
   ]
  },
  {
   "cell_type": "code",
   "execution_count": 14,
   "id": "e8970195",
   "metadata": {},
   "outputs": [],
   "source": [
    "# Access to the Twitter API is authorized using our API Keys\n",
    "auth = tweepy.OAuth1UserHandler(\n",
    "    consumer_key,\n",
    "    consumer_secret,\n",
    "    access_token,\n",
    "    access_token_secret\n",
    ")\n",
    "\n",
    "api = tweepy.API(auth)"
   ]
  },
  {
   "cell_type": "code",
   "execution_count": 15,
   "id": "fefc1516",
   "metadata": {},
   "outputs": [],
   "source": [
    "# Access to the Tweepy Client is authorized using our API Keys\n",
    "client = tweepy.Client(bearer_token=bearer_token,\n",
    "                       consumer_key=consumer_key,\n",
    "                       consumer_secret=consumer_secret,\n",
    "                       access_token=access_token,\n",
    "                       access_token_secret=access_token_secret,\n",
    "                       wait_on_rate_limit=True)"
   ]
  },
  {
   "cell_type": "markdown",
   "id": "fcea719d",
   "metadata": {},
   "source": [
    "### Step 2: Collect Data using the Tweepy Client"
   ]
  },
  {
   "cell_type": "code",
   "execution_count": 16,
   "id": "840d75f7",
   "metadata": {},
   "outputs": [],
   "source": [
    "# A list of CEO's twitter usernames corresponding to the list of stock tickers of which they are the\n",
    "# respective CEOs\n",
    "ceo_usernames = ['tim_cook', 'satyanadella', 'sundarpichai', 'MichaelDell', 'JeffBezos']"
   ]
  },
  {
   "cell_type": "code",
   "execution_count": 17,
   "id": "c8d95063",
   "metadata": {},
   "outputs": [],
   "source": [
    "# The parameters for the API call to get tweet information\n",
    "start_date='2022-01-01T00:00:00Z' # The date on which to begin the analysis (January 1st, 2022)\n",
    "end_date='2022-11-30T11:59:59Z' # The date on which to end the analysis (November 30th, 2022)\n",
    "limit = 200 # The number of tweets to get the information for"
   ]
  },
  {
   "cell_type": "code",
   "execution_count": 18,
   "id": "7abd7251",
   "metadata": {},
   "outputs": [],
   "source": [
    "# An empty list in which to store DataFrames containing tweet data for each user that is analyzed\n",
    "tweet_data_list = []\n",
    "\n",
    "# Creates a DataFrame containing information for each tweet in a user's timeline over the given time range,\n",
    "# consisting of the date as well as the number of likes, retweets, and quote tweets that it received\n",
    "for n in np.arange(5):\n",
    "    # Gets the user id of the user from their username\n",
    "    username = ceo_usernames[n]\n",
    "    status = api.get_user(screen_name=username)\n",
    "    user_id = status.id\n",
    "    \n",
    "    # Uses the Twitter API to collect tweets from the user's timeline over the given time range, excluding\n",
    "    # both retweets and replies from the search while collecting data for the creation date and metrics of\n",
    "    # each tweet\n",
    "    tweets = tweepy.Paginator(client.get_users_tweets,\n",
    "                              user_id,\n",
    "                              exclude='retweets,replies',\n",
    "                              end_time=end_date,\n",
    "                              start_time=start_date,\n",
    "                              tweet_fields=['created_at', 'public_metrics']).flatten(limit=limit)\n",
    "    \n",
    "    # An empty list in which to store the data collected on each tweet to create a DataFrame for each user\n",
    "    data = []\n",
    "    # The columns for the DataFrame to which the list of data will be added\n",
    "    columns = ['Date', 'Tweets', 'Likes', 'Retweets', 'Quote Tweets']\n",
    "    \n",
    "    # Adds the information for each tweet to the list of data\n",
    "    for tweet in tweets:\n",
    "        data.append([tweet.created_at, 1,\n",
    "                     tweet.public_metrics['like_count'],\n",
    "                     tweet.public_metrics['retweet_count'],\n",
    "                     tweet.public_metrics['quote_count']])\n",
    "    \n",
    "    # Creates a DataFrame with the date, likes, retweets, quote tweets for each tweet, and includes a tweet\n",
    "    # category with a 1 to signify that a tweet occurred for when the data is joined with that of the stock\n",
    "    # performance. This DataFrame is then appended to the list of DataFrames\n",
    "    tweet_data = pd.DataFrame(data, columns=columns)\n",
    "    tweet_data['Date'] = pd.to_datetime(tweet_data['Date']).dt.date\n",
    "    tweet_data_list.append(tweet_data)"
   ]
  },
  {
   "cell_type": "markdown",
   "id": "3aa30ac4",
   "metadata": {},
   "source": [
    "## Joining the Stock and Tweet data"
   ]
  },
  {
   "cell_type": "code",
   "execution_count": 19,
   "id": "2f4860ba",
   "metadata": {},
   "outputs": [],
   "source": [
    "# An empty list to store the DataFrames containing data for both the stock activity and tweet information on each\n",
    "# day in the given time range\n",
    "stock_tweet_data_list = []\n",
    "\n",
    "# Merges each corresponding stock and tweet DataFrame such that for each day in the given time range, the stock\n",
    "# activity and activity level, as well as if a tweet occured that day, and how many likes, retweets, and quote\n",
    "# tweets it recieved\n",
    "for n in np.arange(5):\n",
    "    stock_tweet_data = pd.merge(stock_data_activity_list[n], tweet_data_list[n], on='Date', how='left')\n",
    "    # All of the null values for tuples represnting days on which a tweet did not occur are filled with zeros\n",
    "    # to signify that no tweets, likes, retweets, or quote tweets happened on that day\n",
    "    stock_tweet_data['Tweets'] = stock_tweet_data['Tweets'].fillna(0)\n",
    "    stock_tweet_data['Likes'] = stock_tweet_data['Likes'].fillna(0)\n",
    "    stock_tweet_data['Retweets'] = stock_tweet_data['Retweets'].fillna(0)\n",
    "    stock_tweet_data['Quote Tweets'] = stock_tweet_data['Quote Tweets'].fillna(0)\n",
    "    \n",
    "    # Appends the new merged DataFrame to the list\n",
    "    stock_tweet_data_list.append(stock_tweet_data)\n",
    "    \n",
    "# Creates a final DataFrame containing all information for each stock/tweet pairing by concatenating all of the\n",
    "# DataFrames for each individual pairing\n",
    "full_data = pd.concat([stock_tweet_data_list[0],\n",
    "                       stock_tweet_data_list[1],\n",
    "                       stock_tweet_data_list[2],\n",
    "                       stock_tweet_data_list[3],\n",
    "                       stock_tweet_data_list[4]])"
   ]
  },
  {
   "cell_type": "markdown",
   "id": "944f26a1",
   "metadata": {},
   "source": [
    "## Training a Random Forest Regressor model\n",
    "\n",
    "### Step 1: Build the model and predict target labels"
   ]
  },
  {
   "cell_type": "code",
   "execution_count": 20,
   "id": "4bfbe0cb",
   "metadata": {},
   "outputs": [],
   "source": [
    "# Set the input features and the target label to train the Random Forest Regressor model with\n",
    "X_randomforest = full_data[['Tweets', 'Likes', 'Retweets', 'Quote Tweets']]\n",
    "y_randomforest = full_data['Activity']\n",
    "\n",
    "# Partition the data into training and testing sets\n",
    "X_randomforest_train, X_randomforest_test, y_randomforest_train, y_randomforest_test = train_test_split(\n",
    "    X_randomforest, # The input features\n",
    "    y_randomforest, # The target label\n",
    "    test_size=0.3,  # Sets aside 30% of the data as the test set\n",
    "    random_state=7, # Allows the results to be reproducible\n",
    ")"
   ]
  },
  {
   "cell_type": "code",
   "execution_count": 21,
   "id": "a06e3cd0",
   "metadata": {},
   "outputs": [
    {
     "data": {
      "text/plain": [
       "RandomForestRegressor(random_state=7)"
      ]
     },
     "execution_count": 21,
     "metadata": {},
     "output_type": "execute_result"
    }
   ],
   "source": [
    "# Build the Random Forest Regressor model and fit the training data to it\n",
    "rf = RandomForestRegressor(random_state=7)\n",
    "rf.fit(X_randomforest_train, y_randomforest_train)"
   ]
  },
  {
   "cell_type": "code",
   "execution_count": 22,
   "id": "00e393ad",
   "metadata": {},
   "outputs": [
    {
     "name": "stdout",
     "output_type": "stream",
     "text": [
      "The predicted activity is: [0.19551154 0.19551154 0.19134985 0.19551154 0.19551154 0.19551154\n",
      " 0.11899181 0.19551154 0.19551154 0.19551154 0.27307627 0.15367855\n",
      " 0.19551154 0.19551154 0.15298482 0.19204517 0.19551154 0.19551154\n",
      " 0.19551154 0.19551154 0.19551154 0.19551154 0.16812305 0.19551154\n",
      " 0.19551154 0.19551154 0.19551154 0.169968   0.19056611 0.19551154\n",
      " 0.24215936 0.29859592 0.35661765 0.13004073 0.19551154 0.19551154\n",
      " 0.12899234 0.22104366 0.19551154 0.09752408 0.19551154 0.19551154\n",
      " 0.14926146 0.19551154 0.19551154 0.19551154 0.35975954 0.19551154\n",
      " 0.19551154 0.19551154 0.28507199 0.2307565  0.19551154 0.19551154\n",
      " 0.19551154 0.19551154 0.19551154 0.19551154 0.19551154 0.15308759\n",
      " 0.19551154 0.10210863 0.23076309 0.19551154 0.14526141 0.19551154\n",
      " 0.19551154 0.19551154 0.19551154 0.19551154 0.19551154 0.19551154\n",
      " 0.30625739 0.19551154 0.19551154 0.28040481 0.16629313 0.19551154\n",
      " 0.19078509 0.19551154 0.24539781 0.19551154 0.19551154 0.19551154\n",
      " 0.19551154 0.24132283 0.19551154 0.19551154 0.27777269 0.18895651\n",
      " 0.19551154 0.19551154 0.19551154 0.19551154 0.19551154 0.10884018\n",
      " 0.11498006 0.19551154 0.12425851 0.19551154 0.19551154 0.19551154\n",
      " 0.19551154 0.19551154 0.19551154 0.19551154 0.28655546 0.19551154\n",
      " 0.32321592 0.26952122 0.19257121 0.19551154 0.25847941 0.19551154\n",
      " 0.12853893 0.25045735 0.19551154 0.17316621 0.19551154 0.19551154\n",
      " 0.23939012 0.19551154 0.19551154 0.19551154 0.19551154 0.19551154\n",
      " 0.33577904 0.19551154 0.19551154 0.19551154 0.19551154 0.19551154\n",
      " 0.13562779 0.19551154 0.45136611 0.19551154 0.19551154 0.21483142\n",
      " 0.19551154 0.19551154 0.17407865 0.17734531 0.19551154 0.34650223\n",
      " 0.11517731 0.16743965 0.19551154 0.19551154 0.33867059 0.19551154\n",
      " 0.21233926 0.19551154 0.19551154 0.14663662 0.19551154 0.19551154\n",
      " 0.19551154 0.21422965 0.19551154 0.15364279 0.22241284 0.13887783\n",
      " 0.19551154 0.19551154 0.1999917  0.33419442 0.19551154 0.19551154\n",
      " 0.19551154 0.16754679 0.24825693 0.13966806 0.19551154 0.19551154\n",
      " 0.19551154 0.19551154 0.19551154 0.13386236 0.19551154 0.19551154\n",
      " 0.11608782 0.19551154 0.19551154 0.19551154 0.25067974 0.19551154\n",
      " 0.19551154 0.19551154 0.19551154 0.19551154 0.13477139 0.19551154\n",
      " 0.19551154 0.18070281 0.19551154 0.19551154 0.19551154 0.19551154\n",
      " 0.11688305 0.19551154 0.19551154 0.19551154 0.19551154 0.17555285\n",
      " 0.19551154 0.19551154 0.19551154 0.19551154 0.19551154 0.19551154\n",
      " 0.19551154 0.19551154 0.17029271 0.19551154 0.19551154 0.11410842\n",
      " 0.19551154 0.17777775 0.13410865 0.19551154 0.19551154 0.18221529\n",
      " 0.17260741 0.19551154 0.19551154 0.19551154 0.19551154 0.19551154\n",
      " 0.19551154 0.19551154 0.19551154 0.21438729 0.19551154 0.16384061\n",
      " 0.19551154 0.19551154 0.24496253 0.19551154 0.19551154 0.19322023\n",
      " 0.19551154 0.22271343 0.19551154 0.19551154 0.19551154 0.19551154\n",
      " 0.19551154 0.19551154 0.19551154 0.19551154 0.20811933 0.19551154\n",
      " 0.22468629 0.2920511  0.16006441 0.33735068 0.19551154 0.19551154\n",
      " 0.19551154 0.19551154 0.19551154 0.16020615 0.19551154 0.4049584\n",
      " 0.19551154 0.19551154 0.22964489 0.174152   0.17718989 0.12789332\n",
      " 0.19551154 0.19551154 0.10325144 0.19551154 0.20436893 0.19551154\n",
      " 0.19551154 0.12667538 0.0945547  0.12056705 0.19551154 0.19551154\n",
      " 0.19551154 0.19551154 0.19551154 0.19551154 0.19551154 0.19551154\n",
      " 0.17982137 0.19551154 0.22514154 0.19480495 0.19551154 0.19551154\n",
      " 0.19551154 0.19551154 0.19551154 0.4674382  0.19551154 0.19551154\n",
      " 0.19551154 0.19443661 0.19551154 0.21786744 0.19551154 0.19551154\n",
      " 0.19551154 0.19551154 0.23057362 0.19551154 0.19551154 0.19551154\n",
      " 0.19551154 0.19551154 0.19551154 0.19551154 0.19551154 0.19551154\n",
      " 0.19551154 0.19551154 0.19551154 0.19551154 0.19551154 0.14500306\n",
      " 0.22731162 0.19551154 0.19551154 0.19551154 0.19551154 0.17816143\n",
      " 0.19551154 0.19551154 0.52333175 0.19963829 0.19551154 0.20044888\n",
      " 0.19353771 0.22406113 0.19340788 0.18829334 0.19551154 0.19551154\n",
      " 0.19551154 0.19551154 0.19551154 0.19551154 0.16330157 0.25896615\n",
      " 0.19551154 0.19551154 0.19551154 0.29066007 0.21319946 0.19551154\n",
      " 0.19551154 0.19551154 0.16566599 0.15817674 0.30902367 0.19551154\n",
      " 0.19551154 0.14184562 0.19551154 0.06655225 0.19551154 0.19551154\n",
      " 0.25113898 0.13675428 0.19551154 0.08543298 0.12094576 0.19551154\n",
      " 0.17178847 0.19551154 0.19551154 0.19551154 0.19551154 0.19551154\n",
      " 0.19551154 0.19551154 0.19551154 0.29000617 0.18091503 0.19551154\n",
      " 0.19551154 0.19551154 0.19551154 0.16049529]\n"
     ]
    }
   ],
   "source": [
    "# Predict the target labels for the test set\n",
    "y_randomforest_pred = rf.predict(X_randomforest_test)\n",
    "print('The predicted activity is: {}'.format(y_randomforest_pred))"
   ]
  },
  {
   "cell_type": "code",
   "execution_count": 23,
   "id": "f213b535",
   "metadata": {},
   "outputs": [
    {
     "name": "stdout",
     "output_type": "stream",
     "text": [
      "The mse of the model is: 0.02196980016649896\n"
     ]
    }
   ],
   "source": [
    "# Calculate the mean squared error from the predicted target labels to evaluate the predictions\n",
    "mse = mean_squared_error(y_randomforest_test, y_randomforest_pred)\n",
    "print('The mse of the model is: {}'.format(mse))"
   ]
  },
  {
   "cell_type": "markdown",
   "id": "78157144",
   "metadata": {},
   "source": [
    "### Step 2: Tweak the model"
   ]
  },
  {
   "cell_type": "code",
   "execution_count": 24,
   "id": "54d7bdc6",
   "metadata": {},
   "outputs": [],
   "source": [
    "# An empty dictionary in which to put estimator values and their corresponding\n",
    "# mean squared error\n",
    "predictions = {}\n",
    "\n",
    "# Identifies a suitable value of estimators by testing the Random Forest Regressor model\n",
    "# with 85 to 115 n_estimators\n",
    "for n in np.arange(85, 115):\n",
    "    n_rf = RandomForestRegressor(n_estimators=n, max_depth=n, random_state=7)\n",
    "    n_rf.fit(X_randomforest_train, y_randomforest_train)\n",
    "    n_y_randomforest_pred = n_rf.predict(X_randomforest_test)\n",
    "    predictions[n] = mean_squared_error(y_randomforest_test, n_y_randomforest_pred)"
   ]
  },
  {
   "cell_type": "code",
   "execution_count": 25,
   "id": "42f5d910",
   "metadata": {},
   "outputs": [
    {
     "data": {
      "image/png": "[encoded data removed]",
      "text/plain": [
       "<Figure size 432x288 with 1 Axes>"
      ]
     },
     "metadata": {},
     "output_type": "display_data"
    }
   ],
   "source": [
    "# Visualizes the predictions by plotting the estimator and mean squared error values\n",
    "sns.lineplot(x=predictions.keys(), y=predictions.values())\n",
    "plt.title('Random Forest Regression Performance')\n",
    "plt.xlabel('Number of Estimators')\n",
    "plt.ylabel('Mean Squared Error')\n",
    "plt.tight_layout()\n",
    "plt.show()"
   ]
  },
  {
   "cell_type": "code",
   "execution_count": 26,
   "id": "a0c8d242",
   "metadata": {},
   "outputs": [
    {
     "name": "stdout",
     "output_type": "stream",
     "text": [
      "The most accurate number of estimators is: 102\n",
      "The smallest mean squared error is: 0.02195340498281133\n"
     ]
    }
   ],
   "source": [
    "# Displays the lowest mean squared error obtained by the model\n",
    "lowest_value = min(predictions.values())\n",
    "lowest_position = 85 + list(predictions.values()).index(lowest_value)\n",
    "\n",
    "print('The most accurate number of estimators is: {}'.format(lowest_position))\n",
    "print('The smallest mean squared error is: {}'.format(lowest_value))"
   ]
  },
  {
   "cell_type": "markdown",
   "id": "d1e8eb13",
   "metadata": {},
   "source": [
    "## Training a Support Vector Machine Regression model\n",
    "\n",
    "### Step 1: Build the model and predict target labels"
   ]
  },
  {
   "cell_type": "code",
   "execution_count": 27,
   "id": "835fb598",
   "metadata": {},
   "outputs": [],
   "source": [
    "# Set the input features and the target label to train the Support Vector Machine Regression model with\n",
    "X_supportvector = full_data[['Tweets', 'Likes', 'Retweets', 'Quote Tweets']]\n",
    "y_supportvector = full_data['Activity']\n",
    "\n",
    "# Partition the data into training and testing sets\n",
    "X_supportvector_train, X_supportvector_test, y_supportvector_train, y_supportvector_test = train_test_split(\n",
    "    X_supportvector, # The input features\n",
    "    y_supportvector, # The target label\n",
    "    test_size=0.3,  # Sets aside 30% of the data as the test set\n",
    "    random_state=7, # Allows the results to be reproducible\n",
    ")"
   ]
  },
  {
   "cell_type": "code",
   "execution_count": 28,
   "id": "2cce1378",
   "metadata": {},
   "outputs": [],
   "source": [
    "# Create copies of the input feature training and testing data\n",
    "X_supportvector_train = X_supportvector_train.copy()\n",
    "X_supportvector_test  = X_supportvector_test.copy()"
   ]
  },
  {
   "cell_type": "code",
   "execution_count": 29,
   "id": "b2557a81",
   "metadata": {},
   "outputs": [],
   "source": [
    "# Normalize the numeric features\n",
    "scaler = StandardScaler()\n",
    "scaler.fit(X_supportvector_train[['Tweets', 'Likes', 'Retweets', 'Quote Tweets']])\n",
    "\n",
    "X_supportvector_train[['Tweets', 'Likes', 'Retweets', 'Quote Tweets']] = scaler.transform(\n",
    "    X_supportvector_train[['Tweets', 'Likes', 'Retweets', 'Quote Tweets']]) #scale the training data"
   ]
  },
  {
   "cell_type": "code",
   "execution_count": 30,
   "id": "ddf5a833",
   "metadata": {},
   "outputs": [
    {
     "data": {
      "text/plain": [
       "SVR()"
      ]
     },
     "execution_count": 30,
     "metadata": {},
     "output_type": "execute_result"
    }
   ],
   "source": [
    "# Build the Support Vector Machine Regression model and fit the training data to it\n",
    "svm = SVR()\n",
    "svm.fit(X_randomforest_train, y_randomforest_train)"
   ]
  },
  {
   "cell_type": "code",
   "execution_count": 31,
   "id": "7ea5ece5",
   "metadata": {},
   "outputs": [
    {
     "name": "stdout",
     "output_type": "stream",
     "text": [
      "The predicted BMI is: [0.18562419 0.18562419 0.18562253 0.18562419 0.18562419 0.18562419\n",
      " 0.18561038 0.18562419 0.18562419 0.18562419 0.18562146 0.18561776\n",
      " 0.18562419 0.18562419 0.1856237  0.1856072  0.18562419 0.18562419\n",
      " 0.18562419 0.18562419 0.18562419 0.18562419 0.18561054 0.18562419\n",
      " 0.18562419 0.18562419 0.18562419 0.18562348 0.18562411 0.18562419\n",
      " 0.18561819 0.18562409 0.18562413 0.1855837  0.18562419 0.18562419\n",
      " 0.18562276 0.1856238  0.18562419 0.18562361 0.18562419 0.18562419\n",
      " 0.18561672 0.18562419 0.18562419 0.18562419 0.18562364 0.18562419\n",
      " 0.18562419 0.18562419 0.18562404 0.18562345 0.18562419 0.18562419\n",
      " 0.18562419 0.18562419 0.18562419 0.18562419 0.18562419 0.18562414\n",
      " 0.18562419 0.18562306 0.1856239  0.18562419 0.18562398 0.18562419\n",
      " 0.18562419 0.18562419 0.18562419 0.18562419 0.18562419 0.18562419\n",
      " 0.18562199 0.18562419 0.18562419 0.1856241  0.1856233  0.18562419\n",
      " 0.18562402 0.18562419 0.18562329 0.18562419 0.18562419 0.18562419\n",
      " 0.18562419 0.18562373 0.18562419 0.18562419 0.18562413 0.18562252\n",
      " 0.18562419 0.18562419 0.18562419 0.18562419 0.18562419 0.18561057\n",
      " 0.185624   0.18562419 0.18562396 0.18562419 0.18562419 0.18562419\n",
      " 0.18562419 0.18562419 0.18562419 0.18562419 0.18562345 0.18562419\n",
      " 0.1856214  0.18562406 0.18562228 0.18562419 0.18562401 0.18562419\n",
      " 0.18562397 0.18562229 0.18562419 0.18562377 0.18562419 0.18562419\n",
      " 0.18562351 0.18562419 0.18562419 0.18562419 0.18562419 0.18562419\n",
      " 0.18562335 0.18562419 0.18562419 0.18562419 0.18562419 0.18562419\n",
      " 0.18562394 0.18562419 0.18562411 0.18562419 0.18562419 0.18561811\n",
      " 0.18562419 0.18562419 0.18562375 0.18562412 0.18562419 0.18562346\n",
      " 0.18562385 0.18562295 0.18562419 0.18562419 0.18562362 0.18562419\n",
      " 0.18562189 0.18562419 0.18562419 0.18562403 0.18562419 0.18562419\n",
      " 0.18562419 0.1856231  0.18562419 0.18562369 0.18562411 0.18562411\n",
      " 0.18562419 0.18562419 0.18562313 0.18562416 0.18562419 0.18562419\n",
      " 0.18562419 0.18562413 0.1856221  0.18560985 0.18562419 0.18562419\n",
      " 0.18562419 0.18562419 0.18562419 0.18562346 0.18562419 0.18562419\n",
      " 0.18562264 0.18562419 0.18562419 0.18562419 0.18562384 0.18562419\n",
      " 0.18562419 0.18562419 0.18562419 0.18562419 0.18562277 0.18562419\n",
      " 0.18562419 0.18562368 0.18562419 0.18562419 0.18562419 0.18562419\n",
      " 0.18562314 0.18562419 0.18562419 0.18562419 0.18562419 0.18562376\n",
      " 0.18562419 0.18562419 0.18562419 0.18562419 0.18562419 0.18562419\n",
      " 0.18562419 0.18562419 0.18562329 0.18562419 0.18562419 0.1856155\n",
      " 0.18562419 0.18561962 0.18562367 0.18562419 0.18562419 0.18562203\n",
      " 0.1856241  0.18562419 0.18562419 0.18562419 0.18562419 0.18562419\n",
      " 0.18562419 0.18562419 0.18562419 0.1856241  0.18562419 0.18562411\n",
      " 0.18562419 0.18562419 0.18562412 0.18562419 0.18562419 0.18561891\n",
      " 0.18562419 0.18562281 0.18562419 0.18562419 0.18562419 0.18562419\n",
      " 0.18562419 0.18562419 0.18562419 0.18562419 0.18562346 0.18562419\n",
      " 0.18562382 0.18562379 0.18562198 0.18562353 0.18562419 0.18562419\n",
      " 0.18562419 0.18562419 0.18562419 0.1856239  0.18562419 0.18562412\n",
      " 0.18562419 0.18562419 0.18562252 0.18562399 0.18562247 0.1856232\n",
      " 0.18562419 0.18562419 0.185624   0.18562419 0.18561875 0.18562419\n",
      " 0.18562419 0.18562318 0.18562289 0.18562359 0.18562419 0.18562419\n",
      " 0.18562419 0.18562419 0.18562419 0.18562419 0.18562419 0.18562419\n",
      " 0.18562367 0.18562419 0.18562303 0.18562376 0.18562419 0.18562419\n",
      " 0.18562419 0.18562419 0.18562419 0.18562412 0.18562419 0.18562419\n",
      " 0.18562419 0.18562196 0.18562419 0.18562332 0.18562419 0.18562419\n",
      " 0.18562419 0.18562419 0.18562361 0.18562419 0.18562419 0.18562419\n",
      " 0.18562419 0.18562419 0.18562419 0.18562419 0.18562419 0.18562419\n",
      " 0.18562419 0.18562419 0.18562419 0.18562419 0.18562419 0.18562306\n",
      " 0.18562311 0.18562419 0.18562419 0.18562419 0.18562419 0.18562272\n",
      " 0.18562419 0.18562419 0.18562412 0.18562344 0.18562419 0.18562116\n",
      " 0.18562273 0.18562065 0.18562328 0.18561768 0.18562419 0.18562419\n",
      " 0.18562419 0.18562419 0.18562419 0.18562419 0.1856233  0.18562336\n",
      " 0.18562419 0.18562419 0.18562419 0.18562336 0.18562363 0.18562419\n",
      " 0.18562419 0.18562419 0.18562327 0.18562392 0.1856236  0.18562419\n",
      " 0.18562419 0.18562366 0.18562419 0.18562303 0.18562419 0.18562419\n",
      " 0.18562397 0.18562321 0.18562419 0.18562326 0.18561344 0.18562419\n",
      " 0.18562335 0.18562419 0.18562419 0.18562419 0.18562419 0.18562419\n",
      " 0.18562419 0.18562419 0.18562419 0.18562349 0.18562305 0.18562419\n",
      " 0.18562419 0.18562419 0.18562419 0.18562351]\n"
     ]
    }
   ],
   "source": [
    "# Sscale the test data\n",
    "X_supportvector_test[['Tweets', 'Likes', 'Retweets', 'Quote Tweets']] = scaler.transform(\n",
    "    X_supportvector_test[['Tweets', 'Likes', 'Retweets', 'Quote Tweets']])\n",
    "\n",
    "# Predict the target labels for the test data\n",
    "y_supportvector_pred = svm.predict(X_supportvector_test)\n",
    "print('The predicted BMI is: {}'.format(y_supportvector_pred))"
   ]
  },
  {
   "cell_type": "code",
   "execution_count": 32,
   "id": "37490d70",
   "metadata": {},
   "outputs": [
    {
     "name": "stdout",
     "output_type": "stream",
     "text": [
      "The mse of the model is: 0.019258408671438073\n"
     ]
    }
   ],
   "source": [
    "# Calculate the mean squared error from the predicted target labels to evaluate the predictions\n",
    "mse = mean_squared_error(y_supportvector_test, y_supportvector_pred)\n",
    "print('The mse of the model is: {}'.format(mse))"
   ]
  },
  {
   "cell_type": "markdown",
   "id": "4fddb0a7",
   "metadata": {},
   "source": [
    "### Step 2: Tune the hyperparameters"
   ]
  },
  {
   "cell_type": "code",
   "execution_count": 33,
   "id": "c76e3a8a",
   "metadata": {},
   "outputs": [],
   "source": [
    "# Setup the parameter grid to try values of C ranging from 1 to 10, all values\n",
    "# for kernel besides precomputed, and values of degree from ranging from 1 to 10\n",
    "params = {'C': np.arange(1, 10),\n",
    "          'kernel': ['linear', 'poly', 'rbf', 'sigmoid'],\n",
    "          'degree': np.arange(1, 5)}\n",
    "\n",
    "svm = SVR()"
   ]
  },
  {
   "cell_type": "code",
   "execution_count": 34,
   "id": "a8a6a860",
   "metadata": {},
   "outputs": [
    {
     "name": "stdout",
     "output_type": "stream",
     "text": [
      "{'C': 1, 'degree': 1, 'kernel': 'poly'}\n",
      "-0.016091979113648014\n"
     ]
    }
   ],
   "source": [
    "# Initialize grid search with cross validation and also return the training score\n",
    "svm_grid = GridSearchCV(estimator = svm, param_grid = params, cv=5, return_train_score = True) \n",
    "svm_grid.fit(X_supportvector_train, y_supportvector_train)"
   ]
  },
  {
   "cell_type": "code",
   "execution_count": 35,
   "id": "694aad8c",
   "metadata": {},
   "outputs": [
    {
     "name": "stdout",
     "output_type": "stream",
     "text": [
      "The most accurate parameters were: {'C': 1, 'degree': 1, 'kernel': 'poly'}\n",
      "The lowest mean squared error was: 0.016091979113648014\n"
     ]
    }
   ],
   "source": [
    "# Display the best parameters and the best score\n",
    "print('The most accurate parameters were: {}'.format(svm_grid.best_params_))\n",
    "print('The lowest mean squared error was: {}'.format(-svm_grid.best_score_))"
   ]
  },
  {
   "cell_type": "markdown",
   "id": "b2f64ad3",
   "metadata": {},
   "source": [
    "## Training a Linear Regression model\n",
    "\n",
    "### Step 1: Build the model and predict target labels"
   ]
  },
  {
   "cell_type": "code",
   "execution_count": 36,
   "id": "7fafa0d9",
   "metadata": {},
   "outputs": [],
   "source": [
    "# Set the input features and the target label to train the Linear Regression model with\n",
    "X_lreg = full_data[['Tweets', 'Likes', 'Retweets', 'Quote Tweets']]\n",
    "y_lreg = full_data['Activity']\n",
    "\n",
    "# Partition the data into training and testing sets\n",
    "X_lreg_train, X_lreg_test, y_lreg_train, y_lreg_test = train_test_split(\n",
    "    X_lreg, # The input features\n",
    "    y_lreg, # The target label\n",
    "    test_size=0.3,  # Sets aside 30% of the data as the test set\n",
    "    random_state=7, # Allows the results to be reproducible\n",
    ")"
   ]
  },
  {
   "cell_type": "code",
   "execution_count": 37,
   "id": "aa39523e",
   "metadata": {},
   "outputs": [
    {
     "data": {
      "text/plain": [
       "LinearRegression()"
      ]
     },
     "execution_count": 37,
     "metadata": {},
     "output_type": "execute_result"
    }
   ],
   "source": [
    "# Build the Linear Regression model and fit the training data to it\n",
    "lreg = LinearRegression()\n",
    "lreg.fit(X_lreg_train, y_lreg_train)"
   ]
  },
  {
   "cell_type": "code",
   "execution_count": 38,
   "id": "1781003f",
   "metadata": {},
   "outputs": [
    {
     "name": "stdout",
     "output_type": "stream",
     "text": [
      "The predicted activity is: [0.19568783 0.19568783 0.20162386 0.19568783 0.19568783 0.19568783\n",
      " 0.19508534 0.19568783 0.19568783 0.19568783 0.20187878 0.19656497\n",
      " 0.19568783 0.19568783 0.2015011  0.20215975 0.19568783 0.19568783\n",
      " 0.19568783 0.19568783 0.19568783 0.19568783 0.18602647 0.19568783\n",
      " 0.19568783 0.19568783 0.19568783 0.19983381 0.20156085 0.19568783\n",
      " 0.20328435 0.20151569 0.20160743 0.18179045 0.19568783 0.19568783\n",
      " 0.20196578 0.201548   0.19568783 0.20135474 0.19568783 0.19568783\n",
      " 0.197227   0.19568783 0.19568783 0.19568783 0.2011515  0.19568783\n",
      " 0.19568783 0.19568783 0.20120635 0.20126039 0.19568783 0.19568783\n",
      " 0.19568783 0.19568783 0.19568783 0.19568783 0.19568783 0.20159597\n",
      " 0.19568783 0.2007676  0.20156289 0.19568783 0.2014792  0.19568783\n",
      " 0.19568783 0.19568783 0.19568783 0.19568783 0.19568783 0.19568783\n",
      " 0.20228871 0.19568783 0.19568783 0.20154393 0.20167375 0.19568783\n",
      " 0.20161424 0.19568783 0.20094021 0.19568783 0.19568783 0.19568783\n",
      " 0.19568783 0.20148364 0.19568783 0.19568783 0.20156137 0.20054664\n",
      " 0.19568783 0.19568783 0.19568783 0.19568783 0.19568783 0.19723897\n",
      " 0.2014651  0.19568783 0.20135115 0.19568783 0.19568783 0.19568783\n",
      " 0.19568783 0.19568783 0.19568783 0.19568783 0.20132863 0.19568783\n",
      " 0.19915482 0.20155047 0.20140876 0.19568783 0.20139448 0.19568783\n",
      " 0.20141535 0.2023683  0.19568783 0.20142122 0.19568783 0.19568783\n",
      " 0.20154381 0.19568783 0.19568783 0.19568783 0.19568783 0.19568783\n",
      " 0.20101748 0.19568783 0.19568783 0.19568783 0.19568783 0.19568783\n",
      " 0.20141264 0.19568783 0.20138266 0.19568783 0.19568783 0.20364164\n",
      " 0.19568783 0.19568783 0.20149993 0.20160032 0.19568783 0.20143301\n",
      " 0.20114709 0.20130672 0.19568783 0.19568783 0.20155691 0.19568783\n",
      " 0.20016034 0.19568783 0.19568783 0.20153262 0.19568783 0.19568783\n",
      " 0.19568783 0.20074588 0.19568783 0.20145195 0.20157258 0.20158945\n",
      " 0.19568783 0.19568783 0.20132829 0.20125102 0.19568783 0.19568783\n",
      " 0.19568783 0.20158946 0.20087805 0.20012708 0.19568783 0.19568783\n",
      " 0.19568783 0.19568783 0.19568783 0.20143391 0.19568783 0.19568783\n",
      " 0.20195953 0.19568783 0.19568783 0.19568783 0.20140507 0.19568783\n",
      " 0.19568783 0.19568783 0.19568783 0.19568783 0.20167366 0.19568783\n",
      " 0.19568783 0.20144404 0.19568783 0.19568783 0.19568783 0.19568783\n",
      " 0.20164621 0.19568783 0.19568783 0.19568783 0.19568783 0.20150026\n",
      " 0.19568783 0.19568783 0.19568783 0.19568783 0.19568783 0.19568783\n",
      " 0.19568783 0.19568783 0.20119122 0.19568783 0.19568783 0.19091208\n",
      " 0.19568783 0.19789047 0.20145254 0.19568783 0.19568783 0.20150435\n",
      " 0.20159737 0.19568783 0.19568783 0.19568783 0.19568783 0.19568783\n",
      " 0.19568783 0.19568783 0.19568783 0.20158546 0.19568783 0.20159738\n",
      " 0.19568783 0.19568783 0.20154409 0.19568783 0.19568783 0.19970041\n",
      " 0.19568783 0.20151099 0.19568783 0.19568783 0.19568783 0.19568783\n",
      " 0.19568783 0.19568783 0.19568783 0.19568783 0.20097613 0.19568783\n",
      " 0.20136624 0.20127549 0.20117423 0.20116569 0.19568783 0.19568783\n",
      " 0.19568783 0.19568783 0.19568783 0.20130275 0.19568783 0.20156755\n",
      " 0.19568783 0.19568783 0.19799146 0.20159869 0.20155369 0.20161117\n",
      " 0.19568783 0.19568783 0.20146694 0.19568783 0.20266321 0.19568783\n",
      " 0.19568783 0.20107343 0.20153823 0.20128018 0.19568783 0.19568783\n",
      " 0.19568783 0.19568783 0.19568783 0.19568783 0.19568783 0.19568783\n",
      " 0.20161229 0.19568783 0.20031186 0.20153087 0.19568783 0.19568783\n",
      " 0.19568783 0.19568783 0.19568783 0.20157695 0.19568783 0.19568783\n",
      " 0.19568783 0.201788   0.19568783 0.20104392 0.19568783 0.19568783\n",
      " 0.19568783 0.19568783 0.20116238 0.19568783 0.19568783 0.19568783\n",
      " 0.19568783 0.19568783 0.19568783 0.19568783 0.19568783 0.19568783\n",
      " 0.19568783 0.19568783 0.19568783 0.19568783 0.19568783 0.20136042\n",
      " 0.20174638 0.19568783 0.19568783 0.19568783 0.19568783 0.20059831\n",
      " 0.19568783 0.19568783 0.20158084 0.20119154 0.19568783 0.2022429\n",
      " 0.20140352 0.20256377 0.2014328  0.2012454  0.19568783 0.19568783\n",
      " 0.19568783 0.19568783 0.19568783 0.19568783 0.20128097 0.20152718\n",
      " 0.19568783 0.19568783 0.19568783 0.20184506 0.20064403 0.19568783\n",
      " 0.19568783 0.19568783 0.20142781 0.20135858 0.20092513 0.19568783\n",
      " 0.19568783 0.20123187 0.19568783 0.20143564 0.19568783 0.19568783\n",
      " 0.20141132 0.20151882 0.19568783 0.20122844 0.19782773 0.19568783\n",
      " 0.20134191 0.19568783 0.19568783 0.19568783 0.19568783 0.19568783\n",
      " 0.19568783 0.19568783 0.19568783 0.20120357 0.20143841 0.19568783\n",
      " 0.19568783 0.19568783 0.19568783 0.20142167]\n"
     ]
    }
   ],
   "source": [
    "# Predict the target labels for the test set\n",
    "y_lreg_pred = lreg.predict(X_randomforest_test)\n",
    "print('The predicted activity is: {}'.format(y_lreg_pred))"
   ]
  },
  {
   "cell_type": "code",
   "execution_count": 39,
   "id": "97cf75a7",
   "metadata": {},
   "outputs": [
    {
     "name": "stdout",
     "output_type": "stream",
     "text": [
      "The mse of the model is: 0.01951185285435527\n"
     ]
    }
   ],
   "source": [
    "# Calculate the mean squared error from the predicted target labels to evaluate the predictions\n",
    "mse = mean_squared_error(y_lreg_test, y_lreg_pred)\n",
    "print('The mse of the model is: {}'.format(mse))"
   ]
  }
 ],
 "metadata": {
  "kernelspec": {
   "display_name": "Python 3 (ipykernel)",
   "language": "python",
   "name": "python3"
  },
  "language_info": {
   "codemirror_mode": {
    "name": "ipython",
    "version": 3
   },
   "file_extension": ".py",
   "mimetype": "text/x-python",
   "name": "python",
   "nbconvert_exporter": "python",
   "pygments_lexer": "ipython3",
   "version": "3.9.12"
  }
 },
 "nbformat": 4,
 "nbformat_minor": 5
}
